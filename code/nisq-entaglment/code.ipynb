{
 "cells": [
  {
   "cell_type": "code",
   "execution_count": 64,
   "id": "61490ef0",
   "metadata": {},
   "outputs": [],
   "source": [
    "import qiskit\n",
    "import qiskit.quantum_info\n",
    "from qiskit.transpiler import generate_preset_pass_manager\n",
    "from qiskit_aer import AerSimulator\n",
    "import qiskit_ibm_runtime\n",
    "from qiskit_ibm_runtime import Options, Session, SamplerV2 as Sampler\n",
    "from qiskit_aer.noise import NoiseModel, depolarizing_error\n",
    "import numpy as np\n",
    "from qiskit_aer.primitives import Sampler as AerSampler\n",
    "import matplotlib as plt"
   ]
  },
  {
   "cell_type": "code",
   "execution_count": null,
   "id": "df5b287c",
   "metadata": {},
   "outputs": [],
   "source": [
    "backend = AerSimulator()\n",
    "pm = generate_preset_pass_manager(backend=backend, optimization_level=1)"
   ]
  },
  {
   "cell_type": "code",
   "execution_count": 44,
   "id": "f14f94f0",
   "metadata": {},
   "outputs": [],
   "source": [
    "def gen_chsh(x, y, num_qubits=2):\n",
    "\n",
    "    base_qc = qiskit.QuantumCircuit(num_qubits, 2)\n",
    "\n",
    "    base_qc.h(0)\n",
    "    base_qc.cx(0, num_qubits - 1)\n",
    "\n",
    "    if x == 1:\n",
    "        base_qc.h(0)\n",
    "\n",
    "    if y == 0:\n",
    "        base_qc.ry(-np.pi/4, num_qubits - 1)\n",
    "    elif y == 1:\n",
    "        base_qc.ry(np.pi/4, num_qubits - 1)   \n",
    "\n",
    "    base_qc.measure(0, 0)\n",
    "    base_qc.measure(num_qubits-1, 1)\n",
    "    #measure_all() #([0, 1], [0, 1])\n",
    "\n",
    "    return base_qc"
   ]
  },
  {
   "cell_type": "code",
   "execution_count": 57,
   "id": "e8c6b919",
   "metadata": {},
   "outputs": [],
   "source": [
    "circuits = []\n",
    "input_pairs = []\n",
    "for x_in in [0, 1]:\n",
    "    for y_in in [0, 1]:\n",
    "        input_pairs.append((x_in, y_in))\n",
    "        circuits.append(gen_chsh(x_in, y_in, 6))"
   ]
  },
  {
   "cell_type": "code",
   "execution_count": 60,
   "id": "0ce8a1f9",
   "metadata": {},
   "outputs": [],
   "source": [
    "noise_model = NoiseModel()\n",
    "cx_depolarizing_prob = 0.02\n",
    "noise_model.add_all_qubit_quantum_error(\n",
    "    depolarizing_error(cx_depolarizing_prob, 2), [\"cx\"]\n",
    ")"
   ]
  },
  {
   "cell_type": "markdown",
   "id": "07b1bdf9",
   "metadata": {},
   "source": [
    "### Work in Progress Below"
   ]
  },
  {
   "cell_type": "code",
   "execution_count": null,
   "id": "41225b6b",
   "metadata": {},
   "outputs": [
    {
     "name": "stdout",
     "output_type": "stream",
     "text": [
      "SamplerResult(quasi_dists=[{2: 0.067, 0: 0.4, 3: 0.443, 1: 0.09}, {1: 0.064, 2: 0.092, 0: 0.442, 3: 0.402}, {1: 0.073, 2: 0.09, 0: 0.406, 3: 0.431}, {3: 0.076, 0: 0.078, 2: 0.416, 1: 0.43}], metadata=[{'shots': 1000, 'simulator_metadata': {'num_bind_params': 1, 'runtime_parameter_bind': False, 'parallel_state_update': 10, 'parallel_shots': 1, 'sample_measure_time': 0.00012225, 'noise': 'superop', 'batched_shots_optimization': False, 'remapped_qubits': True, 'active_input_qubits': [0, 5], 'device': 'CPU', 'time_taken': 0.00044025, 'measure_sampling': True, 'num_clbits': 2, 'max_memory_mb': 24576, 'input_qubit_map': [[5, 1], [0, 0]], 'num_qubits': 2, 'method': 'density_matrix', 'required_memory_mb': 1, 'fusion': {'enabled': True, 'threshold': 7, 'applied': False, 'max_fused_qubits': 2}}}, {'shots': 1000, 'simulator_metadata': {'num_bind_params': 1, 'runtime_parameter_bind': False, 'parallel_state_update': 10, 'parallel_shots': 1, 'sample_measure_time': 8.9292e-05, 'noise': 'superop', 'batched_shots_optimization': False, 'remapped_qubits': True, 'active_input_qubits': [0, 5], 'device': 'CPU', 'time_taken': 0.000355833, 'measure_sampling': True, 'num_clbits': 2, 'max_memory_mb': 24576, 'input_qubit_map': [[5, 1], [0, 0]], 'num_qubits': 2, 'method': 'density_matrix', 'required_memory_mb': 1, 'fusion': {'enabled': True, 'threshold': 7, 'applied': False, 'max_fused_qubits': 2}}}, {'shots': 1000, 'simulator_metadata': {'num_bind_params': 1, 'runtime_parameter_bind': False, 'parallel_state_update': 10, 'parallel_shots': 1, 'sample_measure_time': 6.2e-05, 'noise': 'superop', 'batched_shots_optimization': False, 'remapped_qubits': True, 'active_input_qubits': [0, 5], 'device': 'CPU', 'time_taken': 0.000334458, 'measure_sampling': True, 'num_clbits': 2, 'max_memory_mb': 24576, 'input_qubit_map': [[5, 1], [0, 0]], 'num_qubits': 2, 'method': 'density_matrix', 'required_memory_mb': 1, 'fusion': {'enabled': True, 'threshold': 7, 'applied': False, 'max_fused_qubits': 2}}}, {'shots': 1000, 'simulator_metadata': {'num_bind_params': 1, 'runtime_parameter_bind': False, 'parallel_state_update': 10, 'parallel_shots': 1, 'sample_measure_time': 6.95e-05, 'noise': 'superop', 'batched_shots_optimization': False, 'remapped_qubits': True, 'active_input_qubits': [0, 5], 'device': 'CPU', 'time_taken': 0.000386625, 'measure_sampling': True, 'num_clbits': 2, 'max_memory_mb': 24576, 'input_qubit_map': [[5, 1], [0, 0]], 'num_qubits': 2, 'method': 'density_matrix', 'required_memory_mb': 1, 'fusion': {'enabled': True, 'threshold': 7, 'applied': False, 'max_fused_qubits': 2}}}])\n"
     ]
    },
    {
     "ename": "TypeError",
     "evalue": "'SamplerResult' object is not subscriptable",
     "output_type": "error",
     "traceback": [
      "\u001b[31m---------------------------------------------------------------------------\u001b[39m",
      "\u001b[31mTypeError\u001b[39m                                 Traceback (most recent call last)",
      "\u001b[36mCell\u001b[39m\u001b[36m \u001b[39m\u001b[32mIn[68]\u001b[39m\u001b[32m, line 13\u001b[39m\n\u001b[32m     10\u001b[39m results_chsh = job_chsh.result()\n\u001b[32m     12\u001b[39m \u001b[38;5;28mprint\u001b[39m(results_chsh)\n\u001b[32m---> \u001b[39m\u001b[32m13\u001b[39m counts_list = [\u001b[43mresults_chsh\u001b[49m\u001b[43m[\u001b[49m\u001b[43mi\u001b[49m\u001b[43m]\u001b[49m.data.c.get_counts() \u001b[38;5;28;01mfor\u001b[39;00m i \u001b[38;5;129;01min\u001b[39;00m \u001b[38;5;28mrange\u001b[39m(\u001b[38;5;28mlen\u001b[39m(circuits))]\n\u001b[32m     15\u001b[39m \u001b[38;5;28mprint\u001b[39m(\u001b[33m\"\u001b[39m\u001b[38;5;130;01m\\n\u001b[39;00m\u001b[33m--- Simulation Results (Counts) ---\u001b[39m\u001b[33m\"\u001b[39m)\n\u001b[32m     16\u001b[39m \u001b[38;5;28;01mfor\u001b[39;00m i, (x, y) \u001b[38;5;129;01min\u001b[39;00m \u001b[38;5;28menumerate\u001b[39m(input_pairs):\n",
      "\u001b[31mTypeError\u001b[39m: 'SamplerResult' object is not subscriptable"
     ]
    }
   ],
   "source": [
    "isa_qc_chsh = pm.run(circuits)\n",
    "SHOTS=1000\n",
    "\n",
    "sampler_chsh = AerSampler(backend_options=dict(noise_model=noise_model))\n",
    "# sampler_chsh = Sampler(\n",
    "#     mode=backend,\n",
    "#     options=dict(backend_options=dict(noise_model=noise_model))\n",
    "# )\n",
    "job_chsh = sampler_chsh.run(isa_qc_chsh, shots=SHOTS)\n",
    "results_chsh = job_chsh.result()\n",
    "\n",
    "print(results_chsh)\n",
    "counts_list = [results_chsh[i].data.c.get_counts() for i in range(len(circuits))]\n",
    "\n",
    "print(\"\\n--- Simulation Results (Counts) ---\")\n",
    "for i, (x, y) in enumerate(input_pairs):\n",
    "    print(f\"Inputs (x={x}, y={y}):\")\n",
    "    sorted_counts = dict(sorted(counts_list[i].items()))\n",
    "    print(f\"  Outcomes (ba): {sorted_counts}\")\n",
    "\n",
    "print(\"\\nPlotting results...\")\n",
    "display(qiskit.visualization.plot_histogram(counts_list,\n",
    "                       legend=[f'(x={x}, y={y})' for x, y in input_pairs],\n",
    "                       title='CHSH Game Outcomes (ba format)'))"
   ]
  },
  {
   "cell_type": "code",
   "execution_count": null,
   "id": "afa2cbb0",
   "metadata": {},
   "outputs": [
    {
     "data": {
      "image/png": "[encoded data removed]",
      "text/plain": [
       "<Figure size 538.128x284.278 with 1 Axes>"
      ]
     },
     "execution_count": 48,
     "metadata": {},
     "output_type": "execute_result"
    }
   ],
   "source": [
    "qc = gen_chsh(0, 0, 2)\n",
    "\n",
    "qc.draw('mpl')"
   ]
  },
  {
   "cell_type": "code",
   "execution_count": 3,
   "id": "f6719a5e",
   "metadata": {},
   "outputs": [],
   "source": [
    "def cx_chain(n_qubits):\n",
    "    qc = qiskit.QuantumCircuit(n_qubits)\n",
    "\n",
    "    half = int(n_qubits / 2)\n",
    "\n",
    "    for i in range(half - 1):\n",
    "        qc.cx(i, i + 1)\n",
    "        qc.cx(i + 1, i)\n",
    "\n",
    "        qc.cx(n_qubits - (i + 1), n_qubits - (i + 2))\n",
    "        qc.cx(n_qubits - (i + 2), n_qubits - (i + 1))\n",
    "\n",
    "    qc.cx(int(n_qubits/2)-1, int(n_qubits/2))\n",
    "\n",
    "    for i in reversed(range(half - 1)):\n",
    "        qc.cx(i + 1, i)\n",
    "        qc.cx(i, i + 1)\n",
    "\n",
    "        qc.cx(n_qubits - (i + 2), n_qubits - (i + 1))\n",
    "        qc.cx(n_qubits - (i + 1), n_qubits - (i + 2))\n",
    "\n",
    "    return qc"
   ]
  },
  {
   "cell_type": "code",
   "execution_count": null,
   "id": "a38f8dee",
   "metadata": {},
   "outputs": [
    {
     "data": {
      "image/png": "[encoded data removed]",
      "text/plain": [
       "<Figure size 454.719x618.722 with 1 Axes>"
      ]
     },
     "execution_count": 29,
     "metadata": {},
     "output_type": "execute_result"
    }
   ],
   "source": [
    "custom_cnot = cx_chain(6).to_gate(label=\"CNOT\")\n",
    "qc = qiskit.QuantumCircuit(6, 2)\n",
    "\n",
    "#qc.h(0)\n",
    "qc.x(0)\n",
    "#qc.append(custom_cnot, [0, 1, 2, 3, 4, 5])\n",
    "qc.cx(0, 5) # used default since has lower depth after transplation\n",
    "#qc.ry(-np.pi/4, 1)\n",
    "qc.measure(0, 0)\n",
    "qc.measure(5, 1)\n",
    "\n",
    "qc.draw(\"mpl\")"
   ]
  },
  {
   "cell_type": "code",
   "execution_count": null,
   "id": "d1f950c9",
   "metadata": {},
   "outputs": [
    {
     "name": "stdout",
     "output_type": "stream",
     "text": [
      "Preparing circuits for the simulator...\n"
     ]
    }
   ],
   "source": [
    "print(\"Preparing circuits for the simulator...\")\n",
    "isa_qc_chsh = pm.run(qc)\n",
    "\n",
    "sampler = Sampler(mode=backend)\n",
    "counts = sampler.run([isa_qc_chsh], shots = 1000).result()[0].data .c.get_counts()\n"
   ]
  },
  {
   "cell_type": "code",
   "execution_count": 32,
   "id": "5a39662b",
   "metadata": {},
   "outputs": [],
   "source": [
    "service = qiskit_ibm_runtime.QiskitRuntimeService()"
   ]
  },
  {
   "cell_type": "code",
   "execution_count": 33,
   "id": "7bc74b2b",
   "metadata": {},
   "outputs": [
    {
     "name": "stdout",
     "output_type": "stream",
     "text": [
      "The circuit depth is: 3\n",
      "The TRANSPILED circuit depth is: 8\n"
     ]
    }
   ],
   "source": [
    "print(\"The circuit depth is:\", qc.depth())\n",
    "qc_transpiled = qiskit.transpile(qc, service.backend('ibm_brisbane') , optimization_level=3)\n",
    "print(\"The TRANSPILED circuit depth is:\", qc_transpiled.depth())"
   ]
  }
 ],
 "metadata": {
  "kernelspec": {
   "display_name": ".venv",
   "language": "python",
   "name": "python3"
  },
  "language_info": {
   "codemirror_mode": {
    "name": "ipython",
    "version": 3
   },
   "file_extension": ".py",
   "mimetype": "text/x-python",
   "name": "python",
   "nbconvert_exporter": "python",
   "pygments_lexer": "ipython3",
   "version": "3.13.3"
  }
 },
 "nbformat": 4,
 "nbformat_minor": 5
}
