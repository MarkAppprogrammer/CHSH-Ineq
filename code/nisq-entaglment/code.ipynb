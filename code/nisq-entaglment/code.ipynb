{
 "cells": [
  {
   "cell_type": "code",
   "execution_count": null,
   "id": "61490ef0",
   "metadata": {},
   "outputs": [],
   "source": [
    "import qiskit\n",
    "import qiskit.quantum_info\n",
    "from qiskit.transpiler import generate_preset_pass_manager\n",
    "from qiskit_aer import AerSimulator\n",
    "import qiskit_ibm_runtime\n",
    "from qiskit_ibm_runtime import SamplerV2 as Sampler\n",
    "from qiskit_aer.noise import NoiseModel, depolarizing_error\n",
    "import numpy as np\n",
    "from qiskit_aer.primitives import Sampler as AerSampler\n",
    "import matplotlib as plt"
   ]
  },
  {
   "cell_type": "code",
   "execution_count": null,
   "id": "df5b287c",
   "metadata": {},
   "outputs": [],
   "source": [
    "backend = AerSimulator()\n",
    "pm = generate_preset_pass_manager(backend=backend, optimization_level=1)"
   ]
  },
  {
   "cell_type": "code",
   "execution_count": 44,
   "id": "f14f94f0",
   "metadata": {},
   "outputs": [],
   "source": [
    "def gen_chsh(x, y, num_qubits=2):\n",
    "\n",
    "    base_qc = qiskit.QuantumCircuit(num_qubits, 2)\n",
    "\n",
    "    base_qc.h(0)\n",
    "    base_qc.cx(0, num_qubits - 1)\n",
    "\n",
    "    if x == 1:\n",
    "        base_qc.h(0)\n",
    "\n",
    "    if y == 0:\n",
    "        base_qc.ry(-np.pi/4, num_qubits - 1)\n",
    "    elif y == 1:\n",
    "        base_qc.ry(np.pi/4, num_qubits - 1)   \n",
    "\n",
    "    base_qc.measure(0, 0)\n",
    "    base_qc.measure(num_qubits-1, 1)\n",
    "    #measure_all() #([0, 1], [0, 1])\n",
    "\n",
    "    return base_qc"
   ]
  },
  {
   "cell_type": "code",
   "execution_count": 86,
   "id": "e8c6b919",
   "metadata": {},
   "outputs": [],
   "source": [
    "circuits = []\n",
    "input_pairs = []\n",
    "for x_in in [0, 1]:\n",
    "    for y_in in [0, 1]:\n",
    "        input_pairs.append((x_in, y_in))\n",
    "        circuits.append(gen_chsh(x_in, y_in, 12))"
   ]
  },
  {
   "cell_type": "code",
   "execution_count": 76,
   "id": "b45209c3",
   "metadata": {},
   "outputs": [
    {
     "name": "stdout",
     "output_type": "stream",
     "text": [
      "[<qiskit.circuit.quantumcircuit.QuantumCircuit object at 0x13af9ba10>, <qiskit.circuit.quantumcircuit.QuantumCircuit object at 0x13af9add0>, <qiskit.circuit.quantumcircuit.QuantumCircuit object at 0x13af9b850>, <qiskit.circuit.quantumcircuit.QuantumCircuit object at 0x13af9b930>]\n"
     ]
    }
   ],
   "source": [
    "print(circuits)"
   ]
  },
  {
   "cell_type": "code",
   "execution_count": 60,
   "id": "0ce8a1f9",
   "metadata": {},
   "outputs": [],
   "source": [
    "noise_model = NoiseModel()\n",
    "cx_depolarizing_prob = 0.02\n",
    "noise_model.add_all_qubit_quantum_error(\n",
    "    depolarizing_error(cx_depolarizing_prob, 2), [\"cx\"]\n",
    ")"
   ]
  },
  {
   "cell_type": "markdown",
   "id": "07b1bdf9",
   "metadata": {},
   "source": [
    "### Work in Progress Below"
   ]
  },
  {
   "cell_type": "code",
   "execution_count": 77,
   "id": "86bd5b94",
   "metadata": {},
   "outputs": [],
   "source": [
    "from qiskit_ibm_runtime import QiskitRuntimeService\n",
    "from qiskit_aer.noise import NoiseModel\n",
    "\n",
    "service = QiskitRuntimeService()\n",
    "backend = service.backend(\"ibm_brisbane\")\n",
    "noise_model = NoiseModel.from_backend(backend)"
   ]
  },
  {
   "cell_type": "code",
   "execution_count": 87,
   "id": "683b5de6",
   "metadata": {},
   "outputs": [],
   "source": [
    "from qiskit_aer import AerSimulator\n",
    "from qiskit import transpile\n",
    "\n",
    "simulator = AerSimulator(noise_model=noise_model)\n",
    "transpiled_circuits = [transpile(circ, simulator) for circ in circuits]\n",
    "\n",
    "results = simulator.run(transpiled_circuits, shots=1024).result()\n",
    "counts_list = [results.get_counts(i) for i in range(len(transpiled_circuits))]"
   ]
  },
  {
   "cell_type": "code",
   "execution_count": 88,
   "id": "41225b6b",
   "metadata": {},
   "outputs": [
    {
     "name": "stdout",
     "output_type": "stream",
     "text": [
      "\n",
      "--- Simulation Results (Counts) ---\n",
      "Inputs (x=0, y=0):\n",
      "  Outcomes (ba): {'00': 390, '01': 101, '10': 108, '11': 425}\n",
      "Inputs (x=0, y=1):\n",
      "  Outcomes (ba): {'00': 396, '01': 104, '10': 132, '11': 392}\n",
      "Inputs (x=1, y=0):\n",
      "  Outcomes (ba): {'00': 408, '01': 86, '10': 110, '11': 420}\n",
      "Inputs (x=1, y=1):\n",
      "  Outcomes (ba): {'00': 107, '01': 429, '10': 381, '11': 107}\n",
      "\n",
      "Plotting results...\n"
     ]
    },
    {
     "data": {
      "image/png": "[encoded data removed]",
      "text/plain": [
       "<Figure size 640x480 with 1 Axes>"
      ]
     },
     "metadata": {},
     "output_type": "display_data"
    }
   ],
   "source": [
    "SHOTS=1024\n",
    "\n",
    "print(\"\\n--- Simulation Results (Counts) ---\")\n",
    "for i, (x, y) in enumerate(input_pairs):\n",
    "    print(f\"Inputs (x={x}, y={y}):\")\n",
    "    sorted_counts = dict(sorted(counts_list[i].items()))\n",
    "    print(f\"  Outcomes (ba): {sorted_counts}\")\n",
    "\n",
    "print(\"\\nPlotting results...\")\n",
    "display(qiskit.visualization.plot_histogram(counts_list,\n",
    "                       legend=[f'(x={x}, y={y})' for x, y in input_pairs],\n",
    "                       title='CHSH Game Outcomes (ba format)'))"
   ]
  },
  {
   "cell_type": "code",
   "execution_count": 89,
   "id": "8267ba0d",
   "metadata": {},
   "outputs": [
    {
     "name": "stdout",
     "output_type": "stream",
     "text": [
      "E(0,0) = 0.5918\n",
      "E(0,1) = 0.5391\n",
      "E(1,0) = 0.6172\n",
      "E(1,1) = -0.5820\n",
      "\n",
      "CHSH Value: 2.3301\n"
     ]
    }
   ],
   "source": [
    "def get_expectation(counts):\n",
    "    agree = counts.get('00', 0) + counts.get('11', 0)\n",
    "    disagree = counts.get('01', 0) + counts.get('10', 0)\n",
    "    return (agree - disagree) / SHOTS if SHOTS > 0 else 0\n",
    "\n",
    "expectations = []\n",
    "for (x, y), counts in zip(input_pairs, counts_list):\n",
    "    e = get_expectation(counts)\n",
    "    print(f\"E({x},{y}) = {e:.4f}\")\n",
    "    expectations.append(e)\n",
    "\n",
    "# CHSH = E(0,0) + E(0,1) + E(1,0) - E(1,1)\n",
    "chsh_value = abs(expectations[0] + expectations[1] + expectations[2] - expectations[3])\n",
    "print(f\"\\nCHSH Value: {chsh_value:.4f}\")"
   ]
  },
  {
   "cell_type": "code",
   "execution_count": null,
   "id": "afa2cbb0",
   "metadata": {},
   "outputs": [
    {
     "data": {
      "image/png": "[encoded data removed]",
      "text/plain": [
       "<Figure size 538.128x284.278 with 1 Axes>"
      ]
     },
     "execution_count": 48,
     "metadata": {},
     "output_type": "execute_result"
    }
   ],
   "source": [
    "qc = gen_chsh(0, 0, 2)\n",
    "\n",
    "qc.draw('mpl')"
   ]
  },
  {
   "cell_type": "code",
   "execution_count": 3,
   "id": "f6719a5e",
   "metadata": {},
   "outputs": [],
   "source": [
    "def cx_chain(n_qubits):\n",
    "    qc = qiskit.QuantumCircuit(n_qubits)\n",
    "\n",
    "    half = int(n_qubits / 2)\n",
    "\n",
    "    for i in range(half - 1):\n",
    "        qc.cx(i, i + 1)\n",
    "        qc.cx(i + 1, i)\n",
    "\n",
    "        qc.cx(n_qubits - (i + 1), n_qubits - (i + 2))\n",
    "        qc.cx(n_qubits - (i + 2), n_qubits - (i + 1))\n",
    "\n",
    "    qc.cx(int(n_qubits/2)-1, int(n_qubits/2))\n",
    "\n",
    "    for i in reversed(range(half - 1)):\n",
    "        qc.cx(i + 1, i)\n",
    "        qc.cx(i, i + 1)\n",
    "\n",
    "        qc.cx(n_qubits - (i + 2), n_qubits - (i + 1))\n",
    "        qc.cx(n_qubits - (i + 1), n_qubits - (i + 2))\n",
    "\n",
    "    return qc"
   ]
  },
  {
   "cell_type": "code",
   "execution_count": null,
   "id": "a38f8dee",
   "metadata": {},
   "outputs": [
    {
     "data": {
      "image/png": "[encoded data removed]",
      "text/plain": [
       "<Figure size 454.719x618.722 with 1 Axes>"
      ]
     },
     "execution_count": 29,
     "metadata": {},
     "output_type": "execute_result"
    }
   ],
   "source": [
    "custom_cnot = cx_chain(6).to_gate(label=\"CNOT\")\n",
    "qc = qiskit.QuantumCircuit(6, 2)\n",
    "\n",
    "#qc.h(0)\n",
    "qc.x(0)\n",
    "#qc.append(custom_cnot, [0, 1, 2, 3, 4, 5])\n",
    "qc.cx(0, 5) # used default since has lower depth after transplation\n",
    "#qc.ry(-np.pi/4, 1)\n",
    "qc.measure(0, 0)\n",
    "qc.measure(5, 1)\n",
    "\n",
    "qc.draw(\"mpl\")"
   ]
  },
  {
   "cell_type": "code",
   "execution_count": null,
   "id": "d1f950c9",
   "metadata": {},
   "outputs": [
    {
     "name": "stdout",
     "output_type": "stream",
     "text": [
      "Preparing circuits for the simulator...\n"
     ]
    }
   ],
   "source": [
    "print(\"Preparing circuits for the simulator...\")\n",
    "isa_qc_chsh = pm.run(qc)\n",
    "\n",
    "sampler = Sampler(mode=backend)\n",
    "counts = sampler.run([isa_qc_chsh], shots = 1000).result()[0].data .c.get_counts()\n"
   ]
  },
  {
   "cell_type": "code",
   "execution_count": 32,
   "id": "5a39662b",
   "metadata": {},
   "outputs": [],
   "source": [
    "service = qiskit_ibm_runtime.QiskitRuntimeService()"
   ]
  },
  {
   "cell_type": "code",
   "execution_count": 33,
   "id": "7bc74b2b",
   "metadata": {},
   "outputs": [
    {
     "name": "stdout",
     "output_type": "stream",
     "text": [
      "The circuit depth is: 3\n",
      "The TRANSPILED circuit depth is: 8\n"
     ]
    }
   ],
   "source": [
    "print(\"The circuit depth is:\", qc.depth())\n",
    "qc_transpiled = qiskit.transpile(qc, service.backend('ibm_brisbane') , optimization_level=3)\n",
    "print(\"The TRANSPILED circuit depth is:\", qc_transpiled.depth())"
   ]
  }
 ],
 "metadata": {
  "kernelspec": {
   "display_name": ".venv",
   "language": "python",
   "name": "python3"
  },
  "language_info": {
   "codemirror_mode": {
    "name": "ipython",
    "version": 3
   },
   "file_extension": ".py",
   "mimetype": "text/x-python",
   "name": "python",
   "nbconvert_exporter": "python",
   "pygments_lexer": "ipython3",
   "version": "3.13.3"
  }
 },
 "nbformat": 4,
 "nbformat_minor": 5
}
