{
 "cells": [
  {
   "cell_type": "code",
   "execution_count": 2,
   "id": "61490ef0",
   "metadata": {},
   "outputs": [],
   "source": [
    "import qiskit\n",
    "import qiskit.quantum_info\n",
    "from qiskit.transpiler import generate_preset_pass_manager\n",
    "from qiskit_aer import AerSimulator\n",
    "import qiskit_ibm_runtime\n",
    "from qiskit_ibm_runtime import SamplerV2 as Sampler\n",
    "from qiskit_aer.noise import NoiseModel, depolarizing_error\n",
    "import numpy as np\n",
    "from qiskit_aer.primitives import Sampler as AerSampler\n",
    "import matplotlib as plt"
   ]
  },
  {
   "cell_type": "code",
   "execution_count": 3,
   "id": "df5b287c",
   "metadata": {},
   "outputs": [],
   "source": [
    "backend = AerSimulator()\n",
    "pm = generate_preset_pass_manager(backend=backend, optimization_level=1)"
   ]
  },
  {
   "cell_type": "code",
   "execution_count": 4,
   "id": "f14f94f0",
   "metadata": {},
   "outputs": [],
   "source": [
    "def gen_chsh(x, y, num_qubits=2, phase=np.pi/4):\n",
    "\n",
    "    base_qc = qiskit.QuantumCircuit(num_qubits, 2)\n",
    "\n",
    "    base_qc.h(0)\n",
    "    base_qc.cx(0, num_qubits - 1)\n",
    "\n",
    "    if x == 1:\n",
    "        base_qc.h(0)\n",
    "\n",
    "    if y == 0:\n",
    "        base_qc.ry(-phase, num_qubits - 1)\n",
    "    elif y == 1:\n",
    "        base_qc.ry(phase, num_qubits - 1)   \n",
    "\n",
    "    base_qc.measure(0, 0)\n",
    "    base_qc.measure(num_qubits-1, 1)\n",
    "    #measure_all() #([0, 1], [0, 1])\n",
    "\n",
    "    return base_qc"
   ]
  },
  {
   "cell_type": "markdown",
   "id": "18d1d622",
   "metadata": {},
   "source": [
    "##### Why $\\frac{\\pi}{4}?$\n",
    "\n",
    "The reason behind why $\\frac{\\pi}{4}$ is the optimal rotation in the y-axis is becuase of what basis Bob is measuring in. To achive Tsirelson's bound ($S = 2\\sqrt2$) you start in the entangled bell state and then change the measurment basis based on values of $x$ and $y$. \n",
    "\n",
    "The following is based on this proof: https://math.ucsd.edu/sites/math.ucsd.edu/files/XiaoFeng.pdf\n",
    "\n",
    "Let alice have the angles to meausre in be $\\alpha, \\alpha'$ and Bob have $\\beta, \\beta'$ and they share the bell state. Then their coorelation is\n",
    "$$E(\\alpha, \\beta) = cos[2(\\alpha -\\beta)]$$\n",
    "and the CHSH parameter becomes:\n",
    "$$S = cos[2(\\alpha -\\beta)] - cos[2(\\alpha' -\\beta)] + cos[2(\\alpha -\\beta')] - cos[2(\\alpha' -\\beta')]$$\n",
    "\n",
    "If we let $\\alpha = 0, \\alpha = \\pi/2$ and $\\beta = \\theta, \\beta' = \\theta$ and we subsistue into the CHSH paramter we have:\n",
    "$$S(\\theta) = 4cos(2\\theta)$$ \n",
    "amd to maximize $S(\\theta)$ we need to find where the max of $cos(2\\theta)$ occurs. We find that $\\theta = \\pi$ and $S$ can equal $4$, but this isn't physically realizable and the max of $S$ is futhere below that which is why $\\theta$ can only go up to $\\frac{\\pi}{4}$."
   ]
  },
  {
   "cell_type": "code",
   "execution_count": 5,
   "id": "23d4f365",
   "metadata": {},
   "outputs": [
    {
     "name": "stdout",
     "output_type": "stream",
     "text": [
      "Found a match with N = 43\n"
     ]
    }
   ],
   "source": [
    "import numpy as np\n",
    "\n",
    "target = np.pi / 4 # want to make sure pi/4 is in the set of phases\n",
    "start = -np.pi / 2\n",
    "stop = 3 * np.pi\n",
    "\n",
    "for N in range(31, 100):\n",
    "    phases = np.linspace(start, stop, N)\n",
    "    if np.any(np.isclose(phases, target, atol=1e-6)):\n",
    "        print(f\"Found a match with N = {N}\")\n",
    "        break"
   ]
  },
  {
   "cell_type": "code",
   "execution_count": 6,
   "id": "10c94a84",
   "metadata": {},
   "outputs": [
    {
     "name": "stdout",
     "output_type": "stream",
     "text": [
      "[-1.57079633 -1.30899694 -1.04719755 -0.78539816 -0.52359878 -0.26179939\n",
      "  0.          0.26179939  0.52359878  0.78539816  1.04719755  1.30899694\n",
      "  1.57079633  1.83259571  2.0943951   2.35619449  2.61799388  2.87979327\n",
      "  3.14159265  3.40339204  3.66519143  3.92699082  4.1887902   4.45058959\n",
      "  4.71238898  4.97418837  5.23598776  5.49778714  5.75958653  6.02138592\n",
      "  6.28318531  6.54498469  6.80678408  7.06858347  7.33038286  7.59218225\n",
      "  7.85398163  8.11578102  8.37758041  8.6393798   8.90117919  9.16297857\n",
      "  9.42477796]\n"
     ]
    }
   ],
   "source": [
    "phases = np.linspace(-np.pi/2, 3*np.pi, 43)\n",
    "print(phases)"
   ]
  },
  {
   "cell_type": "code",
   "execution_count": 7,
   "id": "e8c6b919",
   "metadata": {},
   "outputs": [],
   "source": [
    "circuits = []\n",
    "input_pairs = []\n",
    "for phase in phases:\n",
    "    for x_in in [0, 1]:\n",
    "        for y_in in [0, 1]:\n",
    "            input_pairs.append((x_in, y_in))\n",
    "            circuits.append(gen_chsh(x_in, y_in, num_qubits=6, phase=phase))"
   ]
  },
  {
   "cell_type": "markdown",
   "id": "4518ea17",
   "metadata": {},
   "source": [
    "### Circuit Gen v2\n",
    "only diffrence is that it has metadata so i can keep track of phase, x_in, and y_in"
   ]
  },
  {
   "cell_type": "code",
   "execution_count": 26,
   "id": "934ce987",
   "metadata": {},
   "outputs": [],
   "source": [
    "distance = 6# not code distance for qec lol!"
   ]
  },
  {
   "cell_type": "code",
   "execution_count": null,
   "id": "f54dc718",
   "metadata": {},
   "outputs": [],
   "source": [
    "circuits = []\n",
    "metadata = [] \n",
    "\n",
    "for phase in phases:\n",
    "    for x_in in [0, 1]:\n",
    "        for y_in in [0, 1]:\n",
    "            circuits.append(gen_chsh(x_in, y_in, num_qubits=distance, phase=phase))\n",
    "            metadata.append({\n",
    "                'phase': phase,\n",
    "                'x_in': x_in,\n",
    "                'y_in': y_in\n",
    "            })"
   ]
  },
  {
   "cell_type": "markdown",
   "id": "07b1bdf9",
   "metadata": {},
   "source": [
    "## Version 2\n",
    "Noisy simulation with changes of phase"
   ]
  },
  {
   "cell_type": "code",
   "execution_count": 9,
   "id": "b30dbffc",
   "metadata": {},
   "outputs": [],
   "source": [
    "from qiskit_ibm_runtime import QiskitRuntimeService\n",
    "from qiskit_aer.noise import NoiseModel\n",
    "\n",
    "backend_name = \"ibm_brisbane\"\n",
    "service = QiskitRuntimeService()\n",
    "backend = service.backend(backend_name)\n",
    "noise_model = NoiseModel.from_backend(backend)\n",
    "SHOTS = 1024"
   ]
  },
  {
   "cell_type": "code",
   "execution_count": 19,
   "id": "683b5de6",
   "metadata": {},
   "outputs": [],
   "source": [
    "from qiskit_aer import AerSimulator\n",
    "from qiskit import transpile\n",
    "\n",
    "simulator = AerSimulator(noise_model=noise_model)\n",
    "transpiled_circuits = [transpile(circ, simulator, optimization_level=3) for circ in circuits]\n",
    "\n",
    "results = simulator.run(transpiled_circuits, shots=SHOTS).result()\n",
    "counts_list = [results.get_counts(i) for i in range(len(transpiled_circuits))]"
   ]
  },
  {
   "cell_type": "code",
   "execution_count": 21,
   "id": "440ef4f5",
   "metadata": {},
   "outputs": [],
   "source": [
    "results = list(zip(metadata, counts_list))"
   ]
  },
  {
   "cell_type": "code",
   "execution_count": 22,
   "id": "4aa97f10",
   "metadata": {},
   "outputs": [],
   "source": [
    "def get_expectation(counts):\n",
    "    agree = counts.get('00', 0) + counts.get('11', 0)\n",
    "    disagree = counts.get('01', 0) + counts.get('10', 0)\n",
    "    return (agree - disagree) / SHOTS if SHOTS > 0 else 0"
   ]
  },
  {
   "cell_type": "code",
   "execution_count": 23,
   "id": "ab18a751",
   "metadata": {},
   "outputs": [
    {
     "name": "stdout",
     "output_type": "stream",
     "text": [
      "Phase=-1.5708 | E(0,0) = 0.0156\n",
      "Phase=-1.5708 | E(0,1) = -0.0176\n",
      "Phase=-1.5708 | E(1,0) = -0.8984\n",
      "Phase=-1.5708 | E(1,1) = 0.8613\n",
      "→ CHSH for phase -1.5708: -1.7617\n",
      "\n",
      "Phase=-1.3090 | E(0,0) = 0.1445\n",
      "Phase=-1.3090 | E(0,1) = 0.1504\n",
      "Phase=-1.3090 | E(1,0) = -0.8418\n",
      "Phase=-1.3090 | E(1,1) = 0.8848\n",
      "→ CHSH for phase -1.3090: -1.4316\n",
      "\n",
      "Phase=-1.0472 | E(0,0) = 0.4414\n",
      "Phase=-1.0472 | E(0,1) = 0.4297\n",
      "Phase=-1.0472 | E(1,0) = -0.7695\n",
      "Phase=-1.0472 | E(1,1) = 0.7656\n",
      "→ CHSH for phase -1.0472: -0.6641\n",
      "\n",
      "Phase=-0.7854 | E(0,0) = 0.6172\n",
      "Phase=-0.7854 | E(0,1) = 0.6445\n",
      "Phase=-0.7854 | E(1,0) = -0.6465\n",
      "Phase=-0.7854 | E(1,1) = 0.6367\n",
      "→ CHSH for phase -0.7854: -0.0215\n",
      "\n",
      "Phase=-0.5236 | E(0,0) = 0.7461\n",
      "Phase=-0.5236 | E(0,1) = 0.7383\n",
      "Phase=-0.5236 | E(1,0) = -0.4746\n",
      "Phase=-0.5236 | E(1,1) = 0.4941\n",
      "→ CHSH for phase -0.5236: 0.5156\n",
      "\n",
      "Phase=-0.2618 | E(0,0) = 0.8672\n",
      "Phase=-0.2618 | E(0,1) = 0.8379\n",
      "Phase=-0.2618 | E(1,0) = -0.2070\n",
      "Phase=-0.2618 | E(1,1) = 0.1738\n",
      "→ CHSH for phase -0.2618: 1.3242\n",
      "\n",
      "Phase=0.0000 | E(0,0) = 0.8750\n",
      "Phase=0.0000 | E(0,1) = 0.8867\n",
      "Phase=0.0000 | E(1,0) = 0.0293\n",
      "Phase=0.0000 | E(1,1) = -0.0645\n",
      "→ CHSH for phase 0.0000: 1.8555\n",
      "\n",
      "Phase=0.2618 | E(0,0) = 0.8652\n",
      "Phase=0.2618 | E(0,1) = 0.8574\n",
      "Phase=0.2618 | E(1,0) = 0.1719\n",
      "Phase=0.2618 | E(1,1) = -0.2012\n",
      "→ CHSH for phase 0.2618: 2.0957\n",
      "\n",
      "Phase=0.5236 | E(0,0) = 0.7676\n",
      "Phase=0.5236 | E(0,1) = 0.7559\n",
      "Phase=0.5236 | E(1,0) = 0.4434\n",
      "Phase=0.5236 | E(1,1) = -0.4648\n",
      "→ CHSH for phase 0.5236: 2.4316\n",
      "\n",
      "Phase=0.7854 | E(0,0) = 0.6367\n",
      "Phase=0.7854 | E(0,1) = 0.6152\n",
      "Phase=0.7854 | E(1,0) = 0.6172\n",
      "Phase=0.7854 | E(1,1) = -0.6250\n",
      "→ CHSH for phase 0.7854: 2.4941\n",
      "\n",
      "Phase=1.0472 | E(0,0) = 0.4609\n",
      "Phase=1.0472 | E(0,1) = 0.4590\n",
      "Phase=1.0472 | E(1,0) = 0.7598\n",
      "Phase=1.0472 | E(1,1) = -0.8105\n",
      "→ CHSH for phase 1.0472: 2.4902\n",
      "\n",
      "Phase=1.3090 | E(0,0) = 0.2266\n",
      "Phase=1.3090 | E(0,1) = 0.2070\n",
      "Phase=1.3090 | E(1,0) = 0.8711\n",
      "Phase=1.3090 | E(1,1) = -0.8789\n",
      "→ CHSH for phase 1.3090: 2.1836\n",
      "\n",
      "Phase=1.5708 | E(0,0) = 0.0469\n",
      "Phase=1.5708 | E(0,1) = -0.0234\n",
      "Phase=1.5708 | E(1,0) = 0.8906\n",
      "Phase=1.5708 | E(1,1) = -0.8848\n",
      "→ CHSH for phase 1.5708: 1.7988\n",
      "\n",
      "Phase=1.8326 | E(0,0) = -0.2422\n",
      "Phase=1.8326 | E(0,1) = -0.2441\n",
      "Phase=1.8326 | E(1,0) = 0.8789\n",
      "Phase=1.8326 | E(1,1) = -0.8359\n",
      "→ CHSH for phase 1.8326: 1.2285\n",
      "\n",
      "Phase=2.0944 | E(0,0) = -0.4766\n",
      "Phase=2.0944 | E(0,1) = -0.4785\n",
      "Phase=2.0944 | E(1,0) = 0.7461\n",
      "Phase=2.0944 | E(1,1) = -0.7695\n",
      "→ CHSH for phase 2.0944: 0.5605\n",
      "\n",
      "Phase=2.3562 | E(0,0) = -0.6387\n",
      "Phase=2.3562 | E(0,1) = -0.5742\n",
      "Phase=2.3562 | E(1,0) = 0.6758\n",
      "Phase=2.3562 | E(1,1) = -0.6484\n",
      "→ CHSH for phase 2.3562: 0.1113\n",
      "\n",
      "Phase=2.6180 | E(0,0) = -0.7539\n",
      "Phase=2.6180 | E(0,1) = -0.7617\n",
      "Phase=2.6180 | E(1,0) = 0.4238\n",
      "Phase=2.6180 | E(1,1) = -0.4688\n",
      "→ CHSH for phase 2.6180: -0.6230\n",
      "\n",
      "Phase=2.8798 | E(0,0) = -0.8555\n",
      "Phase=2.8798 | E(0,1) = -0.8164\n",
      "Phase=2.8798 | E(1,0) = 0.2598\n",
      "Phase=2.8798 | E(1,1) = -0.2051\n",
      "→ CHSH for phase 2.8798: -1.2070\n",
      "\n",
      "Phase=3.1416 | E(0,0) = -0.8867\n",
      "Phase=3.1416 | E(0,1) = -0.8906\n",
      "Phase=3.1416 | E(1,0) = -0.0059\n",
      "Phase=3.1416 | E(1,1) = -0.0176\n",
      "→ CHSH for phase 3.1416: -1.7656\n",
      "\n",
      "Phase=3.4034 | E(0,0) = -0.8555\n",
      "Phase=3.4034 | E(0,1) = -0.8359\n",
      "Phase=3.4034 | E(1,0) = -0.2461\n",
      "Phase=3.4034 | E(1,1) = 0.2441\n",
      "→ CHSH for phase 3.4034: -2.1816\n",
      "\n",
      "Phase=3.6652 | E(0,0) = -0.7715\n",
      "Phase=3.6652 | E(0,1) = -0.7578\n",
      "Phase=3.6652 | E(1,0) = -0.4199\n",
      "Phase=3.6652 | E(1,1) = 0.4004\n",
      "→ CHSH for phase 3.6652: -2.3496\n",
      "\n",
      "Phase=3.9270 | E(0,0) = -0.5664\n",
      "Phase=3.9270 | E(0,1) = -0.6426\n",
      "Phase=3.9270 | E(1,0) = -0.5938\n",
      "Phase=3.9270 | E(1,1) = 0.5938\n",
      "→ CHSH for phase 3.9270: -2.3965\n",
      "\n",
      "Phase=4.1888 | E(0,0) = -0.4551\n",
      "Phase=4.1888 | E(0,1) = -0.4277\n",
      "Phase=4.1888 | E(1,0) = -0.7363\n",
      "Phase=4.1888 | E(1,1) = 0.7637\n",
      "→ CHSH for phase 4.1888: -2.3828\n",
      "\n",
      "Phase=4.4506 | E(0,0) = -0.2227\n",
      "Phase=4.4506 | E(0,1) = -0.2266\n",
      "Phase=4.4506 | E(1,0) = -0.8555\n",
      "Phase=4.4506 | E(1,1) = 0.8613\n",
      "→ CHSH for phase 4.4506: -2.1660\n",
      "\n",
      "Phase=4.7124 | E(0,0) = 0.0078\n",
      "Phase=4.7124 | E(0,1) = 0.0254\n",
      "Phase=4.7124 | E(1,0) = -0.8691\n",
      "Phase=4.7124 | E(1,1) = 0.8652\n",
      "→ CHSH for phase 4.7124: -1.7012\n",
      "\n",
      "Phase=4.9742 | E(0,0) = 0.2344\n",
      "Phase=4.9742 | E(0,1) = 0.2227\n",
      "Phase=4.9742 | E(1,0) = -0.8477\n",
      "Phase=4.9742 | E(1,1) = 0.8379\n",
      "→ CHSH for phase 4.9742: -1.2285\n",
      "\n",
      "Phase=5.2360 | E(0,0) = 0.4277\n",
      "Phase=5.2360 | E(0,1) = 0.4668\n",
      "Phase=5.2360 | E(1,0) = -0.7578\n",
      "Phase=5.2360 | E(1,1) = 0.7754\n",
      "→ CHSH for phase 5.2360: -0.6387\n",
      "\n",
      "Phase=5.4978 | E(0,0) = 0.6016\n",
      "Phase=5.4978 | E(0,1) = 0.5938\n",
      "Phase=5.4978 | E(1,0) = -0.6172\n",
      "Phase=5.4978 | E(1,1) = 0.6016\n",
      "→ CHSH for phase 5.4978: -0.0234\n",
      "\n",
      "Phase=5.7596 | E(0,0) = 0.7812\n",
      "Phase=5.7596 | E(0,1) = 0.7793\n",
      "Phase=5.7596 | E(1,0) = -0.4180\n",
      "Phase=5.7596 | E(1,1) = 0.4414\n",
      "→ CHSH for phase 5.7596: 0.7012\n",
      "\n",
      "Phase=6.0214 | E(0,0) = 0.8418\n",
      "Phase=6.0214 | E(0,1) = 0.8535\n",
      "Phase=6.0214 | E(1,0) = -0.2539\n",
      "Phase=6.0214 | E(1,1) = 0.2266\n",
      "→ CHSH for phase 6.0214: 1.2148\n",
      "\n",
      "Phase=6.2832 | E(0,0) = 0.8730\n",
      "Phase=6.2832 | E(0,1) = 0.8867\n",
      "Phase=6.2832 | E(1,0) = -0.0254\n",
      "Phase=6.2832 | E(1,1) = 0.0000\n",
      "→ CHSH for phase 6.2832: 1.7344\n",
      "\n",
      "Phase=6.5450 | E(0,0) = 0.8516\n",
      "Phase=6.5450 | E(0,1) = 0.8301\n",
      "Phase=6.5450 | E(1,0) = 0.1855\n",
      "Phase=6.5450 | E(1,1) = -0.2520\n",
      "→ CHSH for phase 6.5450: 2.1191\n",
      "\n",
      "Phase=6.8068 | E(0,0) = 0.7559\n",
      "Phase=6.8068 | E(0,1) = 0.7324\n",
      "Phase=6.8068 | E(1,0) = 0.4199\n",
      "Phase=6.8068 | E(1,1) = -0.4941\n",
      "→ CHSH for phase 6.8068: 2.4023\n",
      "\n",
      "Phase=7.0686 | E(0,0) = 0.6484\n",
      "Phase=7.0686 | E(0,1) = 0.6230\n",
      "Phase=7.0686 | E(1,0) = 0.6211\n",
      "Phase=7.0686 | E(1,1) = -0.6250\n",
      "→ CHSH for phase 7.0686: 2.5176\n",
      "\n",
      "Phase=7.3304 | E(0,0) = 0.4062\n",
      "Phase=7.3304 | E(0,1) = 0.4355\n",
      "Phase=7.3304 | E(1,0) = 0.7754\n",
      "Phase=7.3304 | E(1,1) = -0.7520\n",
      "→ CHSH for phase 7.3304: 2.3691\n",
      "\n",
      "Phase=7.5922 | E(0,0) = 0.2461\n",
      "Phase=7.5922 | E(0,1) = 0.2305\n",
      "Phase=7.5922 | E(1,0) = 0.8691\n",
      "Phase=7.5922 | E(1,1) = -0.8320\n",
      "→ CHSH for phase 7.5922: 2.1777\n",
      "\n",
      "Phase=7.8540 | E(0,0) = 0.0293\n",
      "Phase=7.8540 | E(0,1) = -0.0312\n",
      "Phase=7.8540 | E(1,0) = 0.8906\n",
      "Phase=7.8540 | E(1,1) = -0.8945\n",
      "→ CHSH for phase 7.8540: 1.7832\n",
      "\n",
      "Phase=8.1158 | E(0,0) = -0.2891\n",
      "Phase=8.1158 | E(0,1) = -0.2227\n",
      "Phase=8.1158 | E(1,0) = 0.8418\n",
      "Phase=8.1158 | E(1,1) = -0.8516\n",
      "→ CHSH for phase 8.1158: 1.1816\n",
      "\n",
      "Phase=8.3776 | E(0,0) = -0.4316\n",
      "Phase=8.3776 | E(0,1) = -0.3730\n",
      "Phase=8.3776 | E(1,0) = 0.8008\n",
      "Phase=8.3776 | E(1,1) = -0.7578\n",
      "→ CHSH for phase 8.3776: 0.7539\n",
      "\n",
      "Phase=8.6394 | E(0,0) = -0.6191\n",
      "Phase=8.6394 | E(0,1) = -0.6113\n",
      "Phase=8.6394 | E(1,0) = 0.6094\n",
      "Phase=8.6394 | E(1,1) = -0.5996\n",
      "→ CHSH for phase 8.6394: -0.0215\n",
      "\n",
      "Phase=8.9012 | E(0,0) = -0.7676\n",
      "Phase=8.9012 | E(0,1) = -0.7949\n",
      "Phase=8.9012 | E(1,0) = 0.4180\n",
      "Phase=8.9012 | E(1,1) = -0.4551\n",
      "→ CHSH for phase 8.9012: -0.6895\n",
      "\n",
      "Phase=9.1630 | E(0,0) = -0.8457\n",
      "Phase=9.1630 | E(0,1) = -0.8496\n",
      "Phase=9.1630 | E(1,0) = 0.1914\n",
      "Phase=9.1630 | E(1,1) = -0.2480\n",
      "→ CHSH for phase 9.1630: -1.2559\n",
      "\n",
      "Phase=9.4248 | E(0,0) = -0.8672\n",
      "Phase=9.4248 | E(0,1) = -0.9082\n",
      "Phase=9.4248 | E(1,0) = 0.0156\n",
      "Phase=9.4248 | E(1,1) = 0.0195\n",
      "→ CHSH for phase 9.4248: -1.7793\n",
      "\n"
     ]
    }
   ],
   "source": [
    "from collections import defaultdict\n",
    "\n",
    "outputs = []\n",
    "grouped_by_phase = defaultdict(list)\n",
    "\n",
    "for meta, counts in results:\n",
    "    phase = float(meta['phase'])  # ensure it's hashable (np.float64 isn't always)\n",
    "    grouped_by_phase[phase].append((meta['x_in'], meta['y_in'], counts))\n",
    "\n",
    "\n",
    "for phase, group in grouped_by_phase.items():\n",
    "    # Sort by (x, y) to ensure correct order: (0,0), (0,1), (1,0), (1,1)\n",
    "    expectations = []\n",
    "    for x, y, counts in group:\n",
    "        e = get_expectation(counts)\n",
    "        print(f\"Phase={phase:.4f} | E({x},{y}) = {e:.4f}\")\n",
    "        expectations.append(e)\n",
    "\n",
    "    if len(expectations) == 4:\n",
    "        chsh_value = expectations[0] + expectations[1] + expectations[2] - expectations[3]\n",
    "        outputs.append((phase, chsh_value))\n",
    "        print(f\"→ CHSH for phase {phase:.4f}: {chsh_value:.4f}\\n\")"
   ]
  },
  {
   "cell_type": "markdown",
   "id": "3678c178",
   "metadata": {},
   "source": [
    "## Saving data\n",
    "TODO: Format data to include backend name qubit disance and outputs list "
   ]
  },
  {
   "cell_type": "code",
   "execution_count": 29,
   "id": "62affba5",
   "metadata": {},
   "outputs": [],
   "source": [
    "import json\n",
    "\n",
    "results = [\n",
    "    {\n",
    "        \"backend\": backend_name,\n",
    "        \"qubit_distance\": distance,\n",
    "        \"data\": outputs\n",
    "    }\n",
    "]\n",
    "\n",
    "with open(\"data/results.json\", \"w\") as f:\n",
    "    json.dump(results, f, indent=4)"
   ]
  },
  {
   "cell_type": "markdown",
   "id": "7b964f75",
   "metadata": {},
   "source": [
    "## Plotting data\n",
    "TODO: Make this more effcient and be able to be saved to data/figures for all data in results.json"
   ]
  },
  {
   "cell_type": "code",
   "execution_count": 24,
   "id": "8008e84c",
   "metadata": {},
   "outputs": [
    {
     "data": {
      "image/png": "[encoded data removed]",
      "text/plain": [
       "<Figure size 1000x600 with 1 Axes>"
      ]
     },
     "metadata": {},
     "output_type": "display_data"
    }
   ],
   "source": [
    "import matplotlib.pyplot as plt\n",
    "import numpy as np\n",
    "\n",
    "phases_extracted, S_extracted = zip(*outputs)\n",
    "\n",
    "plt.figure(figsize=(10, 6))\n",
    "plt.plot(phases_extracted, S_extracted, marker='o', linestyle='-', color='blue', label='CHSH parameter')\n",
    "\n",
    "plt.xlim(-np.pi/2, 3*np.pi)\n",
    "plt.ylim(-2*np.sqrt(2), 2*np.sqrt(2))\n",
    "\n",
    "xticks = np.arange(-np.pi/2, 3*np.pi + 0.1, np.pi/2)\n",
    "xtick_labels = [r\"$-\\frac{\\pi}{2}$\", r\"$0$\", r\"$\\frac{\\pi}{2}$\", r\"$\\pi$\", r\"$\\frac{3\\pi}{2}$\", r\"$2\\pi$\", r\"$\\frac{5\\pi}{2}$\", r\"$3\\pi$\"]\n",
    "plt.xticks(xticks, xtick_labels)\n",
    "\n",
    "yticks = np.arange(-2*np.sqrt(2), 2*np.sqrt(2) + 0.1, 1)\n",
    "plt.yticks(yticks)\n",
    "\n",
    "plt.axhspan(2, 2*np.sqrt(2), facecolor='blue', alpha=0.1, hatch='//', edgecolor='blue')\n",
    "plt.axhspan(-2*np.sqrt(2), -2, facecolor='blue', alpha=0.1, hatch='//', edgecolor='blue')\n",
    "\n",
    "plt.axhline(y=2, color='gray', linestyle='--', label='Classical limit (+2)')\n",
    "plt.axhline(y=-2, color='gray', linestyle='--', label='Classical limit (−2)')\n",
    "plt.axhline(y=2*np.sqrt(2), color='green', linestyle='--', label=\"Tsirelson's bound (+)\")\n",
    "plt.axhline(y=-2*np.sqrt(2), color='green', linestyle='--', label=\"Tsirelson's bound (−)\")\n",
    "\n",
    "plt.title(f\"CHSH Parameter vs Phase ({backend_name})\")\n",
    "plt.xlabel(\"Phase (radians)\")\n",
    "plt.ylabel(\"CHSH Parameter (S)\")\n",
    "plt.grid(True)\n",
    "plt.legend()\n",
    "plt.tight_layout()\n",
    "plt.show()\n"
   ]
  },
  {
   "cell_type": "markdown",
   "id": "2ab83496",
   "metadata": {},
   "source": [
    "## Version 1\n",
    "Noisy simulation with one phase (pi/4)"
   ]
  },
  {
   "cell_type": "code",
   "execution_count": 173,
   "id": "ddef0116",
   "metadata": {},
   "outputs": [],
   "source": [
    "circuits = []\n",
    "input_pairs = []\n",
    "for x_in in [0, 1]:\n",
    "    for y_in in [0, 1]:\n",
    "        input_pairs.append((x_in, y_in))\n",
    "        circuits.append(gen_chsh(x_in, y_in, 6))"
   ]
  },
  {
   "cell_type": "code",
   "execution_count": 174,
   "id": "cb03ce99",
   "metadata": {},
   "outputs": [],
   "source": [
    "from qiskit_aer import AerSimulator\n",
    "from qiskit import transpile\n",
    "\n",
    "simulator = AerSimulator(noise_model=noise_model)\n",
    "transpiled_circuits = [transpile(circ, simulator) for circ in circuits]\n",
    "\n",
    "results = simulator.run(transpiled_circuits, shots=1024).result()\n",
    "counts_list = [results.get_counts(i) for i in range(len(transpiled_circuits))]"
   ]
  },
  {
   "cell_type": "code",
   "execution_count": 171,
   "id": "101c2797",
   "metadata": {},
   "outputs": [
    {
     "name": "stdout",
     "output_type": "stream",
     "text": [
      "E(0,0) = 0.5938\n",
      "E(0,1) = 0.6152\n",
      "E(1,0) = 0.5996\n",
      "E(1,1) = -0.6113\n",
      "\n",
      "CHSH Value: 2.4199\n"
     ]
    }
   ],
   "source": [
    "def get_expectation(counts):\n",
    "    agree = counts.get('00', 0) + counts.get('11', 0)\n",
    "    disagree = counts.get('01', 0) + counts.get('10', 0)\n",
    "    return (agree - disagree) / SHOTS if SHOTS > 0 else 0\n",
    "\n",
    "expectations = []\n",
    "for (x, y), counts in zip(input_pairs, counts_list):\n",
    "    e = get_expectation(counts)\n",
    "    print(f\"E({x},{y}) = {e:.4f}\")\n",
    "    expectations.append(e)\n",
    "\n",
    "# CHSH = E(0,0) + E(0,1) + E(1,0) - E(1,1)\n",
    "chsh_value = abs(expectations[0] + expectations[1] + expectations[2] - expectations[3])\n",
    "print(f\"\\nCHSH Value: {chsh_value:.4f}\")"
   ]
  },
  {
   "cell_type": "code",
   "execution_count": 172,
   "id": "41225b6b",
   "metadata": {},
   "outputs": [
    {
     "name": "stdout",
     "output_type": "stream",
     "text": [
      "\n",
      "--- Simulation Results (Counts) ---\n",
      "Inputs (x=0, y=0):\n",
      "  Outcomes (ba): {'00': 396, '01': 105, '10': 103, '11': 420}\n",
      "Inputs (x=0, y=1):\n",
      "  Outcomes (ba): {'00': 423, '01': 100, '10': 97, '11': 404}\n",
      "Inputs (x=1, y=0):\n",
      "  Outcomes (ba): {'00': 440, '01': 115, '10': 90, '11': 379}\n",
      "Inputs (x=1, y=1):\n",
      "  Outcomes (ba): {'00': 97, '01': 415, '10': 410, '11': 102}\n",
      "\n",
      "Plotting results...\n"
     ]
    },
    {
     "data": {
      "image/png": "[encoded data removed]",
      "text/plain": [
       "<Figure size 640x480 with 1 Axes>"
      ]
     },
     "metadata": {},
     "output_type": "display_data"
    }
   ],
   "source": [
    "print(\"\\n--- Simulation Results (Counts) ---\")\n",
    "for i, (x, y) in enumerate(input_pairs):\n",
    "    print(f\"Inputs (x={x}, y={y}):\")\n",
    "    sorted_counts = dict(sorted(counts_list[i].items()))\n",
    "    print(f\"  Outcomes (ba): {sorted_counts}\")\n",
    "\n",
    "print(\"\\nPlotting results...\")\n",
    "display(qiskit.visualization.plot_histogram(counts_list,\n",
    "                       legend=[f'(x={x}, y={y})' for x, y in input_pairs],\n",
    "                       title='CHSH Game Outcomes (ba format)'))"
   ]
  },
  {
   "cell_type": "code",
   "execution_count": null,
   "id": "afa2cbb0",
   "metadata": {},
   "outputs": [
    {
     "data": {
      "image/png": "[encoded data removed]",
      "text/plain": [
       "<Figure size 538.128x284.278 with 1 Axes>"
      ]
     },
     "execution_count": 48,
     "metadata": {},
     "output_type": "execute_result"
    }
   ],
   "source": [
    "qc = gen_chsh(0, 0, 2)\n",
    "\n",
    "qc.draw('mpl')"
   ]
  },
  {
   "cell_type": "code",
   "execution_count": 3,
   "id": "f6719a5e",
   "metadata": {},
   "outputs": [],
   "source": [
    "def cx_chain(n_qubits):\n",
    "    qc = qiskit.QuantumCircuit(n_qubits)\n",
    "\n",
    "    half = int(n_qubits / 2)\n",
    "\n",
    "    for i in range(half - 1):\n",
    "        qc.cx(i, i + 1)\n",
    "        qc.cx(i + 1, i)\n",
    "\n",
    "        qc.cx(n_qubits - (i + 1), n_qubits - (i + 2))\n",
    "        qc.cx(n_qubits - (i + 2), n_qubits - (i + 1))\n",
    "\n",
    "    qc.cx(int(n_qubits/2)-1, int(n_qubits/2))\n",
    "\n",
    "    for i in reversed(range(half - 1)):\n",
    "        qc.cx(i + 1, i)\n",
    "        qc.cx(i, i + 1)\n",
    "\n",
    "        qc.cx(n_qubits - (i + 2), n_qubits - (i + 1))\n",
    "        qc.cx(n_qubits - (i + 1), n_qubits - (i + 2))\n",
    "\n",
    "    return qc"
   ]
  },
  {
   "cell_type": "code",
   "execution_count": null,
   "id": "a38f8dee",
   "metadata": {},
   "outputs": [
    {
     "data": {
      "image/png": "[encoded data removed]",
      "text/plain": [
       "<Figure size 454.719x618.722 with 1 Axes>"
      ]
     },
     "execution_count": 29,
     "metadata": {},
     "output_type": "execute_result"
    }
   ],
   "source": [
    "custom_cnot = cx_chain(6).to_gate(label=\"CNOT\")\n",
    "qc = qiskit.QuantumCircuit(6, 2)\n",
    "\n",
    "#qc.h(0)\n",
    "qc.x(0)\n",
    "#qc.append(custom_cnot, [0, 1, 2, 3, 4, 5])\n",
    "qc.cx(0, 5) # used default since has lower depth after transplation\n",
    "#qc.ry(-np.pi/4, 1)\n",
    "qc.measure(0, 0)\n",
    "qc.measure(5, 1)\n",
    "\n",
    "qc.draw(\"mpl\")"
   ]
  },
  {
   "cell_type": "code",
   "execution_count": null,
   "id": "d1f950c9",
   "metadata": {},
   "outputs": [
    {
     "name": "stdout",
     "output_type": "stream",
     "text": [
      "Preparing circuits for the simulator...\n"
     ]
    }
   ],
   "source": [
    "print(\"Preparing circuits for the simulator...\")\n",
    "isa_qc_chsh = pm.run(qc)\n",
    "\n",
    "sampler = Sampler(mode=backend)\n",
    "counts = sampler.run([isa_qc_chsh], shots = 1000).result()[0].data .c.get_counts()\n"
   ]
  },
  {
   "cell_type": "code",
   "execution_count": 32,
   "id": "5a39662b",
   "metadata": {},
   "outputs": [],
   "source": [
    "service = qiskit_ibm_runtime.QiskitRuntimeService()"
   ]
  },
  {
   "cell_type": "code",
   "execution_count": 33,
   "id": "7bc74b2b",
   "metadata": {},
   "outputs": [
    {
     "name": "stdout",
     "output_type": "stream",
     "text": [
      "The circuit depth is: 3\n",
      "The TRANSPILED circuit depth is: 8\n"
     ]
    }
   ],
   "source": [
    "print(\"The circuit depth is:\", qc.depth())\n",
    "qc_transpiled = qiskit.transpile(qc, service.backend('ibm_brisbane') , optimization_level=3)\n",
    "print(\"The TRANSPILED circuit depth is:\", qc_transpiled.depth())"
   ]
  }
 ],
 "metadata": {
  "kernelspec": {
   "display_name": ".venv",
   "language": "python",
   "name": "python3"
  },
  "language_info": {
   "codemirror_mode": {
    "name": "ipython",
    "version": 3
   },
   "file_extension": ".py",
   "mimetype": "text/x-python",
   "name": "python",
   "nbconvert_exporter": "python",
   "pygments_lexer": "ipython3",
   "version": "3.13.3"
  }
 },
 "nbformat": 4,
 "nbformat_minor": 5
}
